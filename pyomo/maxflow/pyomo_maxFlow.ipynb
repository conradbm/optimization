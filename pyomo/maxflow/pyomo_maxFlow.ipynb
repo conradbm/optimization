{
 "cells": [
  {
   "cell_type": "code",
   "execution_count": 1,
   "metadata": {},
   "outputs": [
    {
     "name": "stdout",
     "output_type": "stream",
     "text": [
      "Collecting pyomo\n",
      "  Downloading https://files.pythonhosted.org/packages/3a/13/a6e4e1b4aa9c0d49feb9c4a13ccefbc7f5249fd145bc94932eac566d05a3/Pyomo-5.6.6-py3-none-any.whl (2.3MB)\n",
      "Collecting PyUtilib>=5.7.1 (from pyomo)\n",
      "  Downloading https://files.pythonhosted.org/packages/ca/2c/78944c465f1c54c557121e48fdad4b6ba5bd74f1b17292352dc8cf689ad2/PyUtilib-5.7.1-py2.py3-none-any.whl (251kB)\n",
      "Requirement already satisfied: six>=1.4 in c:\\users\\bmccs\\appdata\\local\\continuum\\anaconda3\\lib\\site-packages (from pyomo) (1.12.0)\n",
      "Requirement already satisfied: ply in c:\\users\\bmccs\\appdata\\local\\continuum\\anaconda3\\lib\\site-packages (from pyomo) (3.11)\n",
      "Collecting appdirs (from pyomo)\n",
      "  Downloading https://files.pythonhosted.org/packages/56/eb/810e700ed1349edde4cbdc1b2a21e28cdf115f9faf263f6bbf8447c1abf3/appdirs-1.4.3-py2.py3-none-any.whl\n",
      "Requirement already satisfied: nose in c:\\users\\bmccs\\appdata\\local\\continuum\\anaconda3\\lib\\site-packages (from PyUtilib>=5.7.1->pyomo) (1.3.7)\n",
      "Installing collected packages: PyUtilib, appdirs, pyomo\n",
      "Successfully installed PyUtilib-5.7.1 appdirs-1.4.3 pyomo-5.6.6\n"
     ]
    }
   ],
   "source": [
    "!pip install pyomo"
   ]
  },
  {
   "cell_type": "code",
   "execution_count": 17,
   "metadata": {},
   "outputs": [
    {
     "name": "stdout",
     "output_type": "stream",
     "text": [
      "[    0.00] Setting up Pyomo environment\n",
      "[    0.00] Applying Pyomo preprocessing actions\n",
      "[    0.00] Creating model\n",
      "[    0.01] Applying solver\n",
      "[   12.90] Processing results\n",
      "    Number of solutions: 1\n",
      "    Solution Information\n",
      "      Gap: None\n",
      "      Status: optimal\n",
      "      Function Value: 14.0\n",
      "    Solver results file: results.yml\n",
      "[   12.90] Applying Pyomo postprocessing actions\n",
      "[   12.90] Pyomo Finished\n"
     ]
    }
   ],
   "source": [
    "!pyomo solve --solver-manager=neos --solver=cbc maxflow.py maxflow.dat"
   ]
  },
  {
   "cell_type": "code",
   "execution_count": 18,
   "metadata": {},
   "outputs": [
    {
     "name": "stderr",
     "output_type": "stream",
     "text": [
      "'cat' is not recognized as an internal or external command,\n",
      "operable program or batch file.\n"
     ]
    }
   ],
   "source": [
    "!cat results.yml"
   ]
  },
  {
   "cell_type": "code",
   "execution_count": 19,
   "metadata": {},
   "outputs": [
    {
     "name": "stdout",
     "output_type": "stream",
     "text": [
      "\n",
      "Pyomo Solvers and Solver Managers\n",
      "---------------------------------\n",
      "Pyomo uses 'solver managers' to execute 'solvers' that perform\n",
      "optimization and other forms of model analysis.  A solver directly\n",
      "executes an optimizer, typically using an executable found on the\n",
      "user's PATH environment.  Solver managers support a flexible mechanism\n",
      "for asyncronously executing solvers either locally or remotely.  The\n",
      "following solver managers are available in Pyomo:\n",
      "\n",
      "    neos       Asynchronously execute solvers on the NEOS server\n",
      "    serial     Synchronously execute solvers locally\n",
      "\n",
      "If no solver manager is specified, Pyomo uses the serial solver\n",
      "manager to execute solvers locally.  The pyro and phpyro solver\n",
      "managers require the installation and configuration of the pyro\n",
      "software.  The neos solver manager is used to execute solvers on the\n",
      "NEOS optimization server.\n",
      "\n",
      "\n",
      "Serial Solver Interfaces\n",
      "------------------------\n",
      "The serial, pyro and phpyro solver managers support the following\n",
      "solver interfaces:\n",
      "\n",
      "    asl                  + Interface for solvers using the AMPL Solver\n",
      "                           Library\n",
      "    baron                  The BARON MINLP solver\n",
      "    bilevel_blp_global   + Global solver for continuous bilevel linear\n",
      "                           problems\n",
      "    bilevel_blp_local    + Local solver for continuous bilevel linear\n",
      "                           problems\n",
      "    bilevel_bqp          + Global solver for bilevel quadratic\n",
      "                           problems\n",
      "    bilevel_ld           + Solver for bilevel problems using linear\n",
      "                           duality\n",
      "    cbc                    The CBC LP/MIP solver\n",
      "    conopt                 The CONOPT NLP solver\n",
      "    contrib.gjh            Interface to the AMPL GJH \"solver\"\n",
      "    cplex                  The CPLEX LP/MIP solver\n",
      "    cplex_direct           Direct python interface to CPLEX\n",
      "    cplex_persistent       Persistent python interface to CPLEX\n",
      "    gams                   The GAMS modeling language\n",
      "    gdpbb                * Branch and Bound based GDP Solver\n",
      "    gdpopt               * The GDPopt decomposition-based Generalized\n",
      "                           Disjunctive Programming (GDP) solver\n",
      "    glpk                   The GLPK LP/MIP solver\n",
      "    gurobi                 The GUROBI LP/MIP solver\n",
      "    gurobi_direct          Direct python interface to Gurobi\n",
      "    gurobi_persistent      Persistent python interface to Gurobi\n",
      "    ipopt                  The Ipopt NLP solver\n",
      "    mindtpy              * MindtPy: Mixed-Integer Nonlinear\n",
      "                           Decomposition Toolbox in Pyomo\n",
      "    mosek                  Direct python interface to Mosek\n",
      "    mpec_minlp           + MPEC solver transforms to a MINLP\n",
      "    mpec_nlp             + MPEC solver that optimizes a nonlinear\n",
      "                           transformation\n",
      "    multistart           * MultiStart solver for NLPs\n",
      "    path                   Nonlinear MCP solver\n",
      "    pico                   The PICO LP/MIP solver\n",
      "    ps                   * Pyomo's simple pattern search optimizer\n",
      "    py                   + Direct python solver interfaces\n",
      "    scip                   The SCIP LP/MIP solver\n",
      "    trustregion          * Trust region filter method for black\n",
      "                           box/glass box optimization\n",
      "    xpress                 The XPRESS LP/MIP solver\n",
      "\n",
      "An asterisk indicates solvers that are currently available to be run\n",
      "from Pyomo with the serial solver manager. A plus indicates meta-\n",
      "solvers, that are always available.\n",
      "\n",
      "Pyomo also supports solver interfaces that are wrappers around third-\n",
      "party solver interfaces. These interfaces require a subsolver\n",
      "specification that indicates the solver being executed.  For example,\n",
      "the following indicates that the ipopt solver will be used:\n",
      "\n",
      "   asl:ipopt\n",
      "\n",
      "The asl interface provides a generic wrapper for all solvers that use\n",
      "the AMPL Solver Library.\n",
      "\n",
      "Note that subsolvers can not be enumerated automatically for these\n",
      "interfaces.  However, if a solver is specified that is not found,\n",
      "Pyomo assumes that the asl solver interface is being used.  Thus the\n",
      "following solver name will launch ipopt if the 'ipopt' executable is\n",
      "on the user's path:\n",
      "\n",
      "   ipopt\n",
      "\n",
      "\n",
      "NEOS Solver Interfaces\n",
      "----------------------\n",
      "The neos solver manager supports solver interfaces that can be\n",
      "executed remotely on the NEOS optimization server.  The following\n",
      "solver interfaces are available with your current system\n",
      "configuration:\n",
      "\n",
      "    bonmin       Heuristic MINLP solver\n",
      "    cbc          MILP solver\n",
      "    conopt       Feasible path NLP solver\n",
      "    couenne      Exact MINLP solver\n",
      "    cplex        MILP solver\n",
      "    filmint      Heuristic MINLP solver\n",
      "    filter       SQP NLP solver\n",
      "    ipopt        Interior point NLP solver\n",
      "    knitro       Convex MINLP solver\n",
      "    l-bfgs-b     Bound-constrained NLP solver\n",
      "    loqo         Interior point NLP solver\n",
      "    minlp        Heuristic MINLP solver\n",
      "    minos        SLC NLP solver\n",
      "    minto        MILP solver\n",
      "    mosek        Interior point NLP solver\n",
      "    ooqp         Convex QP solver\n",
      "    path         Nonlinear MCP solver\n",
      "    snopt        SQP NLP solver\n",
      "\n"
     ]
    }
   ],
   "source": [
    "!pyomo help --solvers"
   ]
  },
  {
   "cell_type": "code",
   "execution_count": null,
   "metadata": {},
   "outputs": [],
   "source": []
  }
 ],
 "metadata": {
  "kernelspec": {
   "display_name": "Python 3",
   "language": "python",
   "name": "python3"
  },
  "language_info": {
   "codemirror_mode": {
    "name": "ipython",
    "version": 3
   },
   "file_extension": ".py",
   "mimetype": "text/x-python",
   "name": "python",
   "nbconvert_exporter": "python",
   "pygments_lexer": "ipython3",
   "version": "3.7.3"
  }
 },
 "nbformat": 4,
 "nbformat_minor": 2
}
