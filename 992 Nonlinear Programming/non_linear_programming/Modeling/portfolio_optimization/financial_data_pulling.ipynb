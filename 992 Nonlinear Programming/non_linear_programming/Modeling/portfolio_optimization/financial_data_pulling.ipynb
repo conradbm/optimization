{
 "cells": [
  {
   "cell_type": "markdown",
   "metadata": {},
   "source": [
    "## Import Libraries"
   ]
  },
  {
   "cell_type": "code",
   "execution_count": 37,
   "metadata": {
    "collapsed": false
   },
   "outputs": [],
   "source": [
    "import os\n",
    "def install_package(name):\n",
    "    sudoPassword = 'Jesusislife1!'\n",
    "    command = 'pip install ' + name\n",
    "    p = os.system('echo %s|sudo -S %s' % (sudoPassword, command))\n",
    "import pandas_datareader.data as web\n",
    "import datetime\n",
    "import pandas as pd"
   ]
  },
  {
   "cell_type": "markdown",
   "metadata": {},
   "source": [
    "## Read data"
   ]
  },
  {
   "cell_type": "code",
   "execution_count": 24,
   "metadata": {
    "collapsed": false
   },
   "outputs": [
    {
     "data": {
      "text/html": [
       "<div>\n",
       "<style scoped>\n",
       "    .dataframe tbody tr th:only-of-type {\n",
       "        vertical-align: middle;\n",
       "    }\n",
       "\n",
       "    .dataframe tbody tr th {\n",
       "        vertical-align: top;\n",
       "    }\n",
       "\n",
       "    .dataframe thead th {\n",
       "        text-align: right;\n",
       "    }\n",
       "</style>\n",
       "<table border=\"1\" class=\"dataframe\">\n",
       "  <thead>\n",
       "    <tr style=\"text-align: right;\">\n",
       "      <th></th>\n",
       "      <th></th>\n",
       "      <th>Close</th>\n",
       "      <th>High</th>\n",
       "      <th>Low</th>\n",
       "      <th>Open</th>\n",
       "      <th>Volume</th>\n",
       "    </tr>\n",
       "    <tr>\n",
       "      <th>Symbol</th>\n",
       "      <th>Date</th>\n",
       "      <th></th>\n",
       "      <th></th>\n",
       "      <th></th>\n",
       "      <th></th>\n",
       "      <th></th>\n",
       "    </tr>\n",
       "  </thead>\n",
       "  <tbody>\n",
       "    <tr>\n",
       "      <th rowspan=\"5\" valign=\"top\">AAPL</th>\n",
       "      <th>2001-01-01</th>\n",
       "      <td>1.0626</td>\n",
       "      <td>1.0714</td>\n",
       "      <td>1.0357</td>\n",
       "      <td>1.0486</td>\n",
       "      <td>0</td>\n",
       "    </tr>\n",
       "    <tr>\n",
       "      <th>2001-01-02</th>\n",
       "      <td>1.0625</td>\n",
       "      <td>1.0893</td>\n",
       "      <td>1.0402</td>\n",
       "      <td>1.0625</td>\n",
       "      <td>113078000</td>\n",
       "    </tr>\n",
       "    <tr>\n",
       "      <th>2001-01-03</th>\n",
       "      <td>1.1696</td>\n",
       "      <td>1.1920</td>\n",
       "      <td>1.0312</td>\n",
       "      <td>1.0357</td>\n",
       "      <td>204268400</td>\n",
       "    </tr>\n",
       "    <tr>\n",
       "      <th>2001-01-04</th>\n",
       "      <td>1.2188</td>\n",
       "      <td>1.3214</td>\n",
       "      <td>1.2009</td>\n",
       "      <td>1.2943</td>\n",
       "      <td>184849000</td>\n",
       "    </tr>\n",
       "    <tr>\n",
       "      <th>2001-01-05</th>\n",
       "      <td>1.1697</td>\n",
       "      <td>1.2411</td>\n",
       "      <td>1.1474</td>\n",
       "      <td>1.2100</td>\n",
       "      <td>103077800</td>\n",
       "    </tr>\n",
       "  </tbody>\n",
       "</table>\n",
       "</div>"
      ],
      "text/plain": [
       "                    Close    High     Low    Open     Volume\n",
       "Symbol Date                                                 \n",
       "AAPL   2001-01-01  1.0626  1.0714  1.0357  1.0486          0\n",
       "       2001-01-02  1.0625  1.0893  1.0402  1.0625  113078000\n",
       "       2001-01-03  1.1696  1.1920  1.0312  1.0357  204268400\n",
       "       2001-01-04  1.2188  1.3214  1.2009  1.2943  184849000\n",
       "       2001-01-05  1.1697  1.2411  1.1474  1.2100  103077800"
      ]
     },
     "execution_count": 24,
     "metadata": {},
     "output_type": "execute_result"
    }
   ],
   "source": [
    "start = datetime.datetime(2001, 1, 1)\n",
    "end = datetime.datetime(2013, 12, 31)\n",
    "\n",
    "f = web.DataReader(['AAPL','IBM','MSFT','GOOGL','AXP','BA','PFE'],\n",
    "                   'morningstar', start, end)\n",
    "\n",
    "f.head()"
   ]
  },
  {
   "cell_type": "code",
   "execution_count": null,
   "metadata": {
    "collapsed": true
   },
   "outputs": [],
   "source": [
    "## Create matrix | Time by company"
   ]
  },
  {
   "cell_type": "code",
   "execution_count": 84,
   "metadata": {
    "collapsed": false
   },
   "outputs": [],
   "source": [
    "f = f.reset_index()[[\"Symbol\", \"Date\", \"Close\"]]\n",
    "D=f.pivot(index='Date', columns='Symbol', values='Close')\n",
    "D=D.groupby(D.index.year).mean()\n",
    "D.mean()\n",
    "D.var()"
   ]
  },
  {
   "cell_type": "markdown",
   "metadata": {},
   "source": [
    "## Construct Relations | Covariance | Correlation "
   ]
  },
  {
   "cell_type": "code",
   "execution_count": 72,
   "metadata": {
    "collapsed": false
   },
   "outputs": [],
   "source": [
    "SIG = D.cov()\n",
    "RO = D.corr()\n",
    "SIG.to_csv(\"SIG.csv\")\n",
    "RO.to_csv(\"RO.csv\")"
   ]
  },
  {
   "cell_type": "markdown",
   "metadata": {},
   "source": [
    "## Pose Optimization Questions\n",
    "\n",
    "1. How much of our portfolio should we give to each company?"
   ]
  }
 ],
 "metadata": {
  "kernelspec": {
   "display_name": "Python 2",
   "language": "python",
   "name": "python2"
  },
  "language_info": {
   "codemirror_mode": {
    "name": "ipython",
    "version": 2
   },
   "file_extension": ".py",
   "mimetype": "text/x-python",
   "name": "python",
   "nbconvert_exporter": "python",
   "pygments_lexer": "ipython2",
   "version": "2.7.10"
  }
 },
 "nbformat": 4,
 "nbformat_minor": 2
}
