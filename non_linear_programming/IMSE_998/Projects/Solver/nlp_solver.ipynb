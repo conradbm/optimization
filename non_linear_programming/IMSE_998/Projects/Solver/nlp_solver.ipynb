{
 "cells": [
  {
   "cell_type": "markdown",
   "metadata": {},
   "source": [
    "# NLP\n",
    "\n",
    "### Solve Non Linear Function\n",
    "\n",
    "The object function provided in <strong>Non Linear Programs</strong> is often able to be appended to by removing constraints and penelizing the objective. This is done in a cadre of ways. Bottom line, the objective function becomes a hairy monster, but can be representative of an entire <strong>Program</strong>. Hence we want to find the optimal points on this monster function. This ipython notebook aims to achieve just that; Provide a gradient descent approach to solving the problem."
   ]
  },
  {
   "cell_type": "markdown",
   "metadata": {},
   "source": [
    "## Libraries"
   ]
  },
  {
   "cell_type": "code",
   "execution_count": 2,
   "metadata": {
    "collapsed": true
   },
   "outputs": [],
   "source": [
    "import sympy\n",
    "import numpy as np\n"
   ]
  },
  {
   "cell_type": "markdown",
   "metadata": {},
   "source": [
    "## Initialize"
   ]
  },
  {
   "cell_type": "code",
   "execution_count": 49,
   "metadata": {
    "collapsed": false
   },
   "outputs": [
    {
     "name": "stdout",
     "output_type": "stream",
     "text": [
      "::::::::::::::::::::::::::::::\n",
      ":::: Initialization Phase ::::\n",
      "::::::::::::::::::::::::::::::\n",
      "\n",
      "('Threshold:', 0.001)\n",
      "('Symbols:', x, y, lamda)\n",
      "\n",
      "('F(x,y):', 3*x**2 + x*y + x + y**2 + 2)\n",
      "('Gradient(F(x,y)):', [6*x + y + 1, x + 2*y])\n",
      "('F(94,56):', '35004')\n",
      "\n"
     ]
    }
   ],
   "source": [
    "# Initialization:\n",
    "x0 = np.random.randint(1,100, size=2)\n",
    "epsilon = 0.001\n",
    "k=0\n",
    "x, y, lamda = sympy.symbols('x y lamda')\n",
    "f = (x**3)+(1/x*y) #broke\n",
    "f = (x**2)*(y**2) #worked\n",
    "f = (x**3+1)*y\n",
    "f = (x**2)*(y**2)\n",
    "f = 3*x**2+x*y+y**2+x+2 #worked\n",
    "\n",
    "fgradient = [f.diff(var) for var in (x, y)]   # calling diff as a method is convenient\n",
    "xk=[]\n",
    "xk.append(x0)\n",
    "k+=1\n",
    "\n",
    "print (\"::::::::::::::::::::::::::::::\")\n",
    "print (\":::: Initialization Phase ::::\")\n",
    "print (\"::::::::::::::::::::::::::::::\")\n",
    "print\n",
    "print (\"Threshold:\", epsilon)\n",
    "print (\"Symbols:\", x,y,lamda)\n",
    "print\n",
    "print (\"F(x,y):\", f)\n",
    "print (\"Gradient(F(x,y)):\", fgradient)\n",
    "print (\"F(\"+str(xk[0][0]) + \",\" + str(xk[0][1]) + \"):\",str(f.subs({x:xk[0][0], y:xk[0][1]})))\n",
    "print\n",
    "\n"
   ]
  },
  {
   "cell_type": "markdown",
   "metadata": {},
   "source": [
    "## Loop"
   ]
  },
  {
   "cell_type": "code",
   "execution_count": 50,
   "metadata": {
    "collapsed": false
   },
   "outputs": [
    {
     "name": "stdout",
     "output_type": "stream",
     "text": [
      "::::::::::::::::::::::::::::::\n",
      "  :::: Execution Phase ::::\n",
      "::::::::::::::::::::::::::::::\n",
      "\n",
      "\n",
      "::::::::::::::::::::::::::::::\n",
      "  :::: Iteration 0 ::::\n",
      "::::::::::::::::::::::::::::::\n",
      "\n",
      "('Gradient at current position -->', [621, 206])\n",
      "('Next best position in terms of lambda --> ', [-621*lamda + 94, -206*lamda + 56])\n",
      "('Function in terms of lambda -->', -621*lamda + 3*(-621*lamda + 94)**2 + (-621*lamda + 94)*(-206*lamda + 56) + (-206*lamda + 56)**2 + 96)\n",
      "('F derivative in terms of lambda --> ', 2654570*lamda - 428077)\n",
      "('buggy bug: ', [428077/2654570])\n",
      "('F derivative solved for 0 --> lambda=', 428077/2654570)\n",
      "('Next best position: ', [-6.14270371472593, 22.7803591542133])\n",
      "*************************\n",
      "*** Calculation Phase *** \n",
      "*************************\n",
      "('Difference: |x[k-1] - x[k]| = ', array([100.142703714726, 33.2196408457867], dtype=object))\n",
      "('Which elements are less than epsilon? ', array([False, False], dtype=bool))\n",
      "('Are all less than epsilon? ', False)\n",
      "\n",
      "::::::::::::::::::::::::::::::\n",
      "  :::: Iteration 1 ::::\n",
      "::::::::::::::::::::::::::::::\n",
      "\n",
      "('Gradient at current position -->', [-13.0758631341423, 39.4180145937007])\n",
      "('Next best position in terms of lambda --> ', [13.0758631341423*lamda - 6.14270371472593, -39.4180145937007*lamda + 22.7803591542133])\n",
      "('Function in terms of lambda -->', 13.0758631341423*lamda + (-39.4180145937007*lamda + 22.7803591542133)**2 + (-39.4180145937007*lamda + 22.7803591542133)*(13.0758631341423*lamda - 6.14270371472593) + 3*(13.0758631341423*lamda - 6.14270371472593)**2 - 4.14270371472593)\n",
      "('F derivative in terms of lambda --> ', 3102.57980154162*lamda - 1724.75807121202)\n",
      "('buggy bug: ', [0.555910945579874])\n",
      "('F derivative solved for 0 --> lambda=', 0.555910945579874)\n",
      "('Next best position: ', [1.12631172444811, 0.867453388547883])\n",
      "*************************\n",
      "*** Calculation Phase *** \n",
      "*************************\n",
      "('Difference: |x[k-1] - x[k]| = ', array([7.26901543917404, 21.9129057656654], dtype=object))\n",
      "('Which elements are less than epsilon? ', array([False, False], dtype=bool))\n",
      "('Are all less than epsilon? ', False)\n",
      "\n",
      "::::::::::::::::::::::::::::::\n",
      "  :::: Iteration 2 ::::\n",
      "::::::::::::::::::::::::::::::\n",
      "\n",
      "('Gradient at current position -->', [8.62532373523654, 2.86121850154388])\n",
      "('Next best position in terms of lambda --> ', [-8.62532373523654*lamda + 1.12631172444811, -2.86121850154388*lamda + 0.867453388547883])\n",
      "('Function in terms of lambda -->', -8.62532373523654*lamda + 3*(-8.62532373523654*lamda + 1.12631172444811)**2 + (-8.62532373523654*lamda + 1.12631172444811)*(-2.86121850154388*lamda + 0.867453388547883) + (-2.86121850154388*lamda + 0.867453388547883)**2 + 3.12631172444811)\n",
      "('F derivative in terms of lambda --> ', 512.108271559092*lamda - 82.5827808512118)\n",
      "('buggy bug: ', [0.161260392455275])\n",
      "('F derivative solved for 0 --> lambda=', 0.161260392455275)\n",
      "('Next best position: ', [-0.264611366149935, 0.406052170088623])\n",
      "*************************\n",
      "*** Calculation Phase *** \n",
      "*************************\n",
      "('Difference: |x[k-1] - x[k]| = ', array([1.39092309059804, 0.461401218459260], dtype=object))\n",
      "('Which elements are less than epsilon? ', array([False, False], dtype=bool))\n",
      "('Are all less than epsilon? ', False)\n",
      "\n",
      "::::::::::::::::::::::::::::::\n",
      "  :::: Iteration 3 ::::\n",
      "::::::::::::::::::::::::::::::\n",
      "\n",
      "('Gradient at current position -->', [-0.181616026810985, 0.547492974027312])\n",
      "('Next best position in terms of lambda --> ', [0.181616026810985*lamda - 0.264611366149935, -0.547492974027312*lamda + 0.406052170088623])\n",
      "('Function in terms of lambda -->', 0.181616026810985*lamda + (-0.547492974027312*lamda + 0.406052170088623)**2 + (-0.547492974027312*lamda + 0.406052170088623)*(0.181616026810985*lamda - 0.264611366149935) + 3*(0.181616026810985*lamda - 0.264611366149935)**2 + 1.73538863385007)\n",
      "('F derivative in terms of lambda --> ', 0.598536403086652*lamda - 0.332732937803879)\n",
      "('buggy bug: ', [0.555910945579877])\n",
      "('F derivative solved for 0 --> lambda=', 0.555910945579877)\n",
      "('Next best position: ', [-0.163649028952980, 0.101694833198761])\n",
      "*************************\n",
      "*** Calculation Phase *** \n",
      "*************************\n",
      "('Difference: |x[k-1] - x[k]| = ', array([0.100962337196955, 0.304357336889862], dtype=object))\n",
      "('Which elements are less than epsilon? ', array([False, False], dtype=bool))\n",
      "('Are all less than epsilon? ', False)\n",
      "\n",
      "::::::::::::::::::::::::::::::\n",
      "  :::: Iteration 4 ::::\n",
      "::::::::::::::::::::::::::::::\n",
      "\n",
      "('Gradient at current position -->', [0.119800659480883, 0.0397406374445431])\n",
      "('Next best position in terms of lambda --> ', [-0.119800659480883*lamda - 0.16364902895298, -0.0397406374445431*lamda + 0.101694833198761])\n",
      "('Function in terms of lambda -->', -0.119800659480883*lamda + 3*(-0.119800659480883*lamda - 0.16364902895298)**2 + (-0.119800659480883*lamda - 0.16364902895298)*(-0.0397406374445431*lamda + 0.101694833198761) + (-0.0397406374445431*lamda + 0.101694833198761)**2 + 1.83635097104702)\n",
      "('F derivative in terms of lambda --> ', 0.0987937337494182*lamda - 0.0159315162765531)\n",
      "('buggy bug: ', [0.161260392455275])\n",
      "('F derivative solved for 0 --> lambda=', 0.161260392455275)\n",
      "('Next best position: ', [-0.182968130317268, 0.0952862424080316])\n",
      "*************************\n",
      "*** Calculation Phase *** \n",
      "*************************\n",
      "('Difference: |x[k-1] - x[k]| = ', array([0.0193191013642879, 0.00640859079072982], dtype=object))\n",
      "('Which elements are less than epsilon? ', array([False, False], dtype=bool))\n",
      "('Are all less than epsilon? ', False)\n",
      "\n",
      "::::::::::::::::::::::::::::::\n",
      "  :::: Iteration 5 ::::\n",
      "::::::::::::::::::::::::::::::\n",
      "\n",
      "('Gradient at current position -->', [-0.00252253949557436, 0.00760435449879557])\n",
      "('Next best position in terms of lambda --> ', [0.00252253949557436*lamda - 0.182968130317268, -0.00760435449879557*lamda + 0.0952862424080316])\n",
      "('Function in terms of lambda -->', 0.00252253949557436*lamda + (-0.00760435449879557*lamda + 0.0952862424080316)**2 + (-0.00760435449879557*lamda + 0.0952862424080316)*(0.00252253949557436*lamda - 0.182968130317268) + 3*(0.00252253949557436*lamda - 0.182968130317268)**2 + 1.81703186968273)\n",
      "('F derivative in terms of lambda --> ', 0.000115467078603979*lamda - 6.41894128500847e-5)\n",
      "('buggy bug: ', [0.555910945579884])\n",
      "('F derivative solved for 0 --> lambda=', 0.555910945579884)\n",
      "('Next best position: ', [-0.181565823001020, 0.0910588985080815])\n",
      "*************************\n",
      "*** Calculation Phase *** \n",
      "*************************\n",
      "('Difference: |x[k-1] - x[k]| = ', array([0.00140230731624735, 0.00422734389995008], dtype=object))\n",
      "('Which elements are less than epsilon? ', array([False, False], dtype=bool))\n",
      "('Are all less than epsilon? ', False)\n",
      "\n",
      "::::::::::::::::::::::::::::::\n",
      "  :::: Iteration 6 ::::\n",
      "::::::::::::::::::::::::::::::\n",
      "\n",
      "('Gradient at current position -->', [0.00166396050195967, 0.000551974015142759])\n",
      "('Next best position in terms of lambda --> ', [-0.00166396050195967*lamda - 0.18156582300102, -0.000551974015142759*lamda + 0.0910588985080815])\n",
      "('Function in terms of lambda -->', -0.00166396050195967*lamda + 3*(-0.00166396050195967*lamda - 0.18156582300102)**2 + (-0.00166396050195967*lamda - 0.18156582300102)*(-0.000551974015142759*lamda + 0.0910588985080815) + (-0.000551974015142759*lamda + 0.0910588985080815)**2 + 1.81843417699898)\n",
      "('F derivative in terms of lambda --> ', 1.90588638578883e-5*lamda - 3.07343986547472e-6)\n",
      "('buggy bug: ', [0.161260392455275])\n",
      "('F derivative solved for 0 --> lambda=', 0.161260392455275)\n",
      "('Next best position: ', [-0.181834153924596, 0.0909698869617745])\n",
      "*************************\n",
      "*** Calculation Phase *** \n",
      "*************************\n",
      "('Difference: |x[k-1] - x[k]| = ', array([0.000268330923576088, 8.90115463070412e-5], dtype=object))\n",
      "('Which elements are less than epsilon? ', array([ True,  True], dtype=bool))\n",
      "('Are all less than epsilon? ', True)\n",
      "All differences less than epsilon. Terminating.\n"
     ]
    }
   ],
   "source": [
    "\n",
    "print (\"::::::::::::::::::::::::::::::\")\n",
    "print (\"  :::: Execution Phase ::::\")\n",
    "print (\"::::::::::::::::::::::::::::::\")\n",
    "print\n",
    "\n",
    "for i in range(100):\n",
    "    \n",
    "    print\n",
    "    print (\"::::::::::::::::::::::::::::::\")\n",
    "    print (\"  :::: Iteration \"+str(i)+\" ::::\")\n",
    "    print (\"::::::::::::::::::::::::::::::\")\n",
    "    print\n",
    "    # create dictionary for each atom the value from xk-1 then feed\n",
    "\n",
    "    direction = [i.subs({x: xk[k-1][0], y: xk[k-1][1]}) for i in fgradient]\n",
    "    \n",
    "    print(\"Gradient at current position -->\", direction)\n",
    "    \n",
    "    xi = [xk[k-1][i] - lamda*direction[i] for i in range(len(direction))]\n",
    "    \n",
    "    print(\"Next best position in terms of lambda --> \", xi)\n",
    "    \n",
    "    ##########\n",
    "    ### 1. If the new step is <0,0> we approached a tangent = 0, so we are optimal.\n",
    "    ##########\n",
    "    if all([i.evalf()==0 for i in direction]):\n",
    "        print (\"Our best direction is the zero vector. We approached a tangent.\")\n",
    "        break\n",
    "    \n",
    "    # create dictionary for each atom the value from xk-1 then feed\n",
    "\n",
    "    flamda  = f.subs({x:xi[0], y:xi[1]})\n",
    "    \n",
    "    print (\"Function in terms of lambda -->\", flamda)\n",
    "    \n",
    "    dflamda = flamda.diff()\n",
    "    \n",
    "    print(\"F derivative in terms of lambda --> \",dflamda)\n",
    "    \n",
    "    soln = sympy.solve(dflamda) #Assuming lambda has only 1 root, so it is the best \n",
    "    \n",
    "    ##########\n",
    "    ### 2. If the new point is = the last point, we are optimal\n",
    "    ### 3. If there exists no solution, we are done.\n",
    "    ##########\n",
    "    if len(soln) == 0:\n",
    "        print(soln)\n",
    "        #print(\"F'(lambda)=\",dflamda)\n",
    "        #soln=dflamda\n",
    "        #print(\"No solution to F'(lambda)=0.\")\n",
    "        break\n",
    "    else:\n",
    "        print(\"buggy bug: \", soln)\n",
    "        soln=soln[0]\n",
    "\n",
    "    print(\"F derivative solved for 0 --> lambda=\",soln)\n",
    "    \n",
    "    xi = [i.subs({lamda:soln}).evalf() for i in xi]\n",
    "    \n",
    "    print(\"Next best position: \", xi)\n",
    "    \n",
    "    xk.append(np.array(xi))\n",
    "\n",
    "    print (\"*************************\")\n",
    "    print (\"*** Calculation Phase *** \")\n",
    "    print (\"*************************\")\n",
    "    print(\"Difference: |x[k-1] - x[k]| = \",abs(xk[k] - xk[k-1]))\n",
    "    print (\"Which elements are less than epsilon? \",abs(xk[k] - xk[k-1]) < epsilon)\n",
    "    print(\"Are all less than epsilon? \", all(abs(xk[k] - xk[k-1]) < epsilon))\n",
    "    \n",
    "    if all(abs(xk[k] - xk[k-1]) < epsilon):\n",
    "        print(\"All differences less than epsilon. Terminating.\")\n",
    "        break\n",
    "    k= k + 1\n"
   ]
  },
  {
   "cell_type": "markdown",
   "metadata": {},
   "source": [
    "## Analyze"
   ]
  },
  {
   "cell_type": "code",
   "execution_count": 51,
   "metadata": {
    "collapsed": false
   },
   "outputs": [
    {
     "name": "stdout",
     "output_type": "stream",
     "text": [
      "*** Procedure Complete *** \n",
      "\n",
      "('Local optimum at: ', array([-0.181834153924596, 0.0909698869617745], dtype=object))\n"
     ]
    }
   ],
   "source": [
    "print (\"*** Procedure Complete *** \\n\")\n",
    "\n",
    "local_optimum = xk[-1] #and if convex, it is global\n",
    "print (\"Local optimum at: \", local_optimum)"
   ]
  },
  {
   "cell_type": "code",
   "execution_count": null,
   "metadata": {
    "collapsed": true
   },
   "outputs": [],
   "source": []
  }
 ],
 "metadata": {
  "kernelspec": {
   "display_name": "Python 2",
   "language": "python",
   "name": "python2"
  },
  "language_info": {
   "codemirror_mode": {
    "name": "ipython",
    "version": 2
   },
   "file_extension": ".py",
   "mimetype": "text/x-python",
   "name": "python",
   "nbconvert_exporter": "python",
   "pygments_lexer": "ipython2",
   "version": "2.7.10"
  }
 },
 "nbformat": 4,
 "nbformat_minor": 2
}
