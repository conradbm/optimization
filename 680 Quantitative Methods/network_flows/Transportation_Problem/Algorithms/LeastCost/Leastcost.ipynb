{
 "cells": [
  {
   "cell_type": "markdown",
   "metadata": {
    "deletable": true,
    "editable": true
   },
   "source": [
    "## Author: Blake Conrad\n",
    "### Least Cost Algorithm\n",
    "<hr>\n",
    "<hr>"
   ]
  },
  {
   "cell_type": "markdown",
   "metadata": {
    "deletable": true,
    "editable": true
   },
   "source": [
    "### Libraries\n",
    "<hr>"
   ]
  },
  {
   "cell_type": "code",
   "execution_count": 1,
   "metadata": {
    "collapsed": true,
    "deletable": true,
    "editable": true
   },
   "outputs": [],
   "source": [
    "import numpy as np\n",
    "import sys"
   ]
  },
  {
   "cell_type": "markdown",
   "metadata": {
    "deletable": true,
    "editable": true
   },
   "source": [
    "### Data Structures and Setup\n",
    "<hr>"
   ]
  },
  {
   "cell_type": "code",
   "execution_count": 160,
   "metadata": {
    "collapsed": false,
    "deletable": true,
    "editable": true
   },
   "outputs": [
    {
     "name": "stdout",
     "output_type": "stream",
     "text": [
      ":::::     PRINTING SETUP     :::::\n",
      "Number of Suppliers: \n",
      "3\n",
      "Number of Demanders: \n",
      "4\n",
      "S: \n",
      "[15, 25, 5]\n",
      "D:\n",
      "[5, 15, 15, 10]\n",
      "C: \n",
      "[[10  0 20 11]\n",
      " [12  7  9 20]\n",
      " [ 0 14 16 18]]\n",
      "B:\n",
      "[[0 0 0 0]\n",
      " [0 0 0 0]\n",
      " [0 0 0 0]]\n",
      "X:\n",
      "[['na' 'na' 'na' 'na']\n",
      " ['na' 'na' 'na' 'na']\n",
      " ['na' 'na' 'na' 'na']]\n"
     ]
    }
   ],
   "source": [
    "_NUM_SUPPLIERS = 3\n",
    "_NUM_DEMANDS = 4\n",
    "\n",
    "S = [15,25,5]\n",
    "\n",
    "D = [5,15,15,10]\n",
    "\n",
    "\n",
    "# E.g., the first row represents the cost from source1 to [demand1, demand2, demand3]\n",
    "C = [[10,0,20,11],\n",
    "     [12,7,9,20],\n",
    "     [0,14,16,18]]\n",
    "\n",
    "\n",
    "# I.e., When you meet supply/demand the row/column becomes 1 (satisfied)\n",
    "B = [[0 for j in range(_NUM_DEMANDS)] \n",
    "        for i in range(_NUM_SUPPLIERS)]\n",
    "\n",
    "\n",
    "# I.e., A matrix of decision variables; how many units should we send from supplyi to demandj?\n",
    "X = [[\"na\" for j in range(_NUM_DEMANDS)] for i in range(_NUM_SUPPLIERS)]\n",
    "\n",
    "def printSetup():\n",
    "    print(\":::::     PRINTING SETUP     :::::\")\n",
    "    print(\"Number of Suppliers: \")\n",
    "    print(_NUM_SUPPLIERS)\n",
    "    print(\"Number of Demanders: \")\n",
    "    print(_NUM_DEMANDS)\n",
    "    print(\"S: \")\n",
    "    print(S)\n",
    "    print(\"D:\")\n",
    "    print(D)\n",
    "    print(\"C: \") \n",
    "    print(np.matrix(C))\n",
    "    print(\"B:\")\n",
    "    print(np.matrix(B))\n",
    "    print(\"X:\")\n",
    "    print(np.matrix(X))\n",
    "\n",
    "printSetup()"
   ]
  },
  {
   "cell_type": "markdown",
   "metadata": {
    "deletable": true,
    "editable": true
   },
   "source": [
    "### Least Cost Algorithm Implementation\n"
   ]
  },
  {
   "cell_type": "code",
   "execution_count": 161,
   "metadata": {
    "collapsed": false,
    "deletable": true,
    "editable": true
   },
   "outputs": [],
   "source": [
    "# Arguments:\n",
    "#  1. (S) Supply List; decreases to meet demands\n",
    "#  2. (D) Demand List; decreases as supply is found\n",
    "#  3. (C) Cost Matrix; baseline reference for moving\n",
    "#  4. (B) Boolean Matrix; eliminates duplicate routes once optimalities are found\n",
    "#  5. (X) Decision Variable Matrix; determines optimal amounts of units to ship given cost.\n",
    "# \n",
    "# Return:\n",
    "#  - integer value representing the least cost from M Suppliers to N Demanders\n",
    "#\n",
    "# NOTES: \n",
    "#  - X Should be filled with N.A\n",
    "#  - X Should be of shape (len(S), len(D))\n",
    "def LeastCostAlgorithm(S, D, C, B, X, debug=False):\n",
    "    \n",
    "    while(not(all([s == 0 for s in S]) and all([d == 0 for d in D]))):\n",
    "    \n",
    "        # Variables\n",
    "        min_tmp=9999\n",
    "        min_i=0\n",
    "        min_j=0\n",
    "\n",
    "        # Get the minimum cost; tie-breaking is arbitrary\n",
    "        for i in range(len(C)):\n",
    "            for j in range(len(C[i])):\n",
    "                if ((C[i][j] < min_tmp) and (B[i][j] != 1)):\n",
    "                    min_tmp = C[i][j]\n",
    "                    min_i = i\n",
    "                    min_j = j\n",
    "\n",
    "        # Subtract min of S[i] D[j] from both\n",
    "        amount = min(S[min_i], D[min_j])\n",
    "        S[min_i] = S[min_i] - amount\n",
    "        D[min_j] = D[min_j] - amount\n",
    "\n",
    "        # See which is zero, \n",
    "        if S[min_i] == 0:\n",
    "            B[min_i] = [1 for j in range(_NUM_DEMANDS)]\n",
    "        else:\n",
    "            for i in range(_NUM_SUPPLIERS):\n",
    "                for j in range(_NUM_DEMANDS):\n",
    "                    if j == min_j:\n",
    "                        B[i][j] = 1\n",
    "\n",
    "        # Fill X[i][j] with the value subtracted\n",
    "        X[min_i][min_j] = amount\n",
    "\n",
    "\n",
    "        if debug:\n",
    "            print(\"SUPPLY AND DEMAND NOT EMPTY\")\n",
    "            print(\"S:\")\n",
    "            print(S)\n",
    "            print(\"D:\")\n",
    "            print(D)\n",
    "            print(\"M:\")\n",
    "            print(np.matrix(M))\n",
    "            print(\"C:\")\n",
    "            print(np.matrix(C))\n",
    "            print(\"X:\")\n",
    "            print(np.matrix(X))\n",
    "\n",
    "\n",
    "    if debug:\n",
    "        print(\"SUPPLY AND DEMAND EMPTY\")\n",
    "        \n",
    "        \n",
    "    results=[]\n",
    "    for i in range(len(X)):\n",
    "        for j in range(len(X[i])):\n",
    "            if X[i][j] != 'na':\n",
    "                results.append(X[i][j]*C[i][j])\n",
    "    results = sum(results)\n",
    "    return X, results\n"
   ]
  },
  {
   "cell_type": "code",
   "execution_count": 163,
   "metadata": {
    "collapsed": false,
    "deletable": true,
    "editable": true
   },
   "outputs": [
    {
     "data": {
      "text/plain": [
       "([['na', 15, 'na', 'na'], [0, 0, 15, 10], [5, 'na', 'na', 'na']], 335)"
      ]
     },
     "execution_count": 163,
     "metadata": {},
     "output_type": "execute_result"
    }
   ],
   "source": [
    "LeastCostAlgorithm(S, D, C, B, X, debug=False)"
   ]
  },
  {
   "cell_type": "code",
   "execution_count": null,
   "metadata": {
    "collapsed": false,
    "deletable": true,
    "editable": true
   },
   "outputs": [],
   "source": []
  },
  {
   "cell_type": "code",
   "execution_count": null,
   "metadata": {
    "collapsed": false,
    "deletable": true,
    "editable": true
   },
   "outputs": [],
   "source": []
  },
  {
   "cell_type": "code",
   "execution_count": null,
   "metadata": {
    "collapsed": false,
    "deletable": true,
    "editable": true
   },
   "outputs": [],
   "source": []
  },
  {
   "cell_type": "code",
   "execution_count": null,
   "metadata": {
    "collapsed": false,
    "deletable": true,
    "editable": true
   },
   "outputs": [],
   "source": []
  },
  {
   "cell_type": "code",
   "execution_count": null,
   "metadata": {
    "collapsed": false,
    "deletable": true,
    "editable": true
   },
   "outputs": [],
   "source": []
  },
  {
   "cell_type": "code",
   "execution_count": null,
   "metadata": {
    "collapsed": false,
    "deletable": true,
    "editable": true
   },
   "outputs": [],
   "source": []
  },
  {
   "cell_type": "code",
   "execution_count": null,
   "metadata": {
    "collapsed": true,
    "deletable": true,
    "editable": true
   },
   "outputs": [],
   "source": []
  }
 ],
 "metadata": {
  "kernelspec": {
   "display_name": "Python 2",
   "language": "python",
   "name": "python2"
  },
  "language_info": {
   "codemirror_mode": {
    "name": "ipython",
    "version": 2
   },
   "file_extension": ".py",
   "mimetype": "text/x-python",
   "name": "python",
   "nbconvert_exporter": "python",
   "pygments_lexer": "ipython2",
   "version": "2.7.10"
  }
 },
 "nbformat": 4,
 "nbformat_minor": 2
}
