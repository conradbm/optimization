{
 "cells": [
  {
   "cell_type": "code",
   "execution_count": 7,
   "metadata": {
    "collapsed": false
   },
   "outputs": [
    {
     "name": "stdout",
     "output_type": "stream",
     "text": [
      "************************\n",
      "('[a,b]', '|b[k]-a[k]|')\n",
      "************************\n",
      "(0, 1, 1)\n",
      "(0, 0.618, 0.618)\n",
      "(0, 0.382, 0.382)\n",
      "(0, 0.236076, 0.236076)\n",
      "(0, 0.145924, 0.145924)\n",
      "(0, 0.09018103200000001, 0.09018103200000001)\n",
      "************************\n",
      "('[a,b]', '|b[k]-a[k]|')\n",
      "************************\n",
      "(-1000, 1000, 2000)\n",
      "(-236.0, 1000, 1236.0)\n",
      "(-236.0, 527.848, 763.848)\n",
      "(-236.0, 236.0, 472.0)\n",
      "(-55.696, 236.0, 291.696)\n",
      "(-55.696, 124.57212800000002, 180.26812800000002)\n",
      "(-55.696, 55.78993600000001, 111.48593600000001)\n",
      "(-13.10837244799999, 55.78993600000001, 68.898308448)\n",
      "(-13.10837244799999, 29.470782172864006, 42.579154620863996)\n",
      "(-13.10837244799999, 13.16642489600001, 26.274797344)\n",
      "(-3.0713998625919903, 13.16642489600001, 16.237824758591998)\n",
      "(-3.0713998625919903, 6.963575838217864, 10.034975700809854)\n",
      "(-3.0713998625919903, 3.156864617170058, 6.228264479762048)\n",
      "(-0.6922028313228878, 3.156864617170058, 3.8490674484929457)\n",
      "(-0.6922028313228878, 1.6865208518457524, 2.3787236831686402)\n",
      "(-0.6922028313228878, 0.761960855117374, 1.4541636864402618)\n",
      "(-0.13671230310270777, 0.761960855117374, 0.8986731582200818)\n",
      "(-0.13671230310270777, 0.41866770867730274, 0.5553800117800105)\n",
      "(-0.13671230310270777, 0.21646961564753275, 0.3531819187502405)\n",
      "(-0.0017968101401158731, 0.21646961564753275, 0.21826642578764863)\n",
      "(-0.0017968101401158731, 0.13309184099665097, 0.13488865113676685)\n",
      "(-0.0017968101401158731, 0.07544286139725626, 0.07723967153737213)\n"
     ]
    },
    {
     "data": {
      "text/plain": [
       "(-0.0017968101401158731, 0.07544286139725626)"
      ]
     },
     "execution_count": 7,
     "metadata": {},
     "output_type": "execute_result"
    }
   ],
   "source": [
    "from __future__ import division\n",
    "\n",
    "f = lambda x: x**2 - 10*x\n",
    "f = lambda x: x**2 - (1/10)*x\n",
    "\n",
    "#Bazaraa, M., S., Sherali H., D, Shetty, C., M. \n",
    "#Nonlinear Programming Theory and Algorithms Third Edition. \n",
    "#Wiley-Interscience 2006.\n",
    "def golden_search(low=0,high=1,eps=0.1, verbose=False):\n",
    "\n",
    "    if verbose:\n",
    "        print(\"*******************************\")\n",
    "        print(\"Executing Golden Ratio Search\")\n",
    "        print(\"*******************************\")\n",
    "        \n",
    "        \n",
    "    \n",
    "    # Define Constants\n",
    "    alpha = 0.618\n",
    "    k=0\n",
    "    \n",
    "    # Create lists\n",
    "    lam=list()\n",
    "    mu=list()\n",
    "    a=list()\n",
    "    b=list()\n",
    "    distance=list()\n",
    "    \n",
    "    # Init\n",
    "    a.append(low)\n",
    "    b.append(high)\n",
    "\n",
    "    lam0 = a[k] + (1-alpha)*(b[k]-a[k])\n",
    "    mu0 = a[k] + alpha*(b[k]-a[k])\n",
    "    \n",
    "    lam.append(lam0)\n",
    "    mu.append(mu0)\n",
    "    \n",
    "    if verbose:\n",
    "        print(\"************************\")\n",
    "        print((\"[a,b]\"), \"|b[k]-a[k]|\")\n",
    "        print(\"************************\")\n",
    "        \n",
    "    while True:\n",
    "        distance.append(abs(b[k]-a[k])) \n",
    "        if verbose:\n",
    "            print(a[k],b[k], distance[k])\n",
    "        if(distance[k] < eps): # optimal soln lies within [a,b]\n",
    "            break\n",
    "        elif f(lam[k]) > f(mu[k]):\n",
    "            # Step 2\n",
    "            a.append(lam[k])\n",
    "            b.append(b[k])\n",
    "            lam.append(mu[k])\n",
    "            mu.append(a[k+1] + alpha*(b[k+1]-a[k+1]))\n",
    "        elif f(lam[k]) <= f(mu[k]):\n",
    "            # Step3\n",
    "            a.append(a[k])\n",
    "            b.append(mu[k])\n",
    "            mu.append(lam[k])\n",
    "            lam.append(a[k+1]+(1-alpha)*(b[k+1]-a[k+1]))\n",
    "        else:\n",
    "            print(\"Something went wrong.\")\n",
    "            \n",
    "        k += 1\n",
    "    \n",
    "    return (a[-1], b[-1])\n",
    "golden_search(low=0,high=1,eps=0.1, verbose=True)\n",
    "golden_search(low=-1000,high=1000,eps=0.1, verbose=True)"
   ]
  },
  {
   "cell_type": "code",
   "execution_count": null,
   "metadata": {
    "collapsed": true
   },
   "outputs": [],
   "source": []
  }
 ],
 "metadata": {
  "kernelspec": {
   "display_name": "Python 2",
   "language": "python",
   "name": "python2"
  },
  "language_info": {
   "codemirror_mode": {
    "name": "ipython",
    "version": 2
   },
   "file_extension": ".py",
   "mimetype": "text/x-python",
   "name": "python",
   "nbconvert_exporter": "python",
   "pygments_lexer": "ipython2",
   "version": "2.7.10"
  }
 },
 "nbformat": 4,
 "nbformat_minor": 2
}
