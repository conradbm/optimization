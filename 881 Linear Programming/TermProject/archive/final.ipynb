{
 "cells": [
  {
   "cell_type": "markdown",
   "metadata": {},
   "source": [
    "# Blake Conrad\n",
    "\n",
    "## Final Project | Implement Interior Point Algorithm\n",
    "\n",
    "### Algorithm Implemented: Primal Affine Scaling Algorithm (Lecture 10)"
   ]
  },
  {
   "cell_type": "markdown",
   "metadata": {},
   "source": [
    "Import Numerical Computing Environment Packages"
   ]
  },
  {
   "cell_type": "code",
   "execution_count": 1,
   "metadata": {},
   "outputs": [],
   "source": [
    "import numpy as np\n",
    "import scipy\n",
    "import matplotlib.pyplot as plt\n",
    "import time"
   ]
  },
  {
   "cell_type": "markdown",
   "metadata": {},
   "source": [
    "# Problem 1:\n",
    "\n",
    "Reproduce example in Lecture 10 notes using Primal Affine Scaling Algorithm"
   ]
  },
  {
   "cell_type": "code",
   "execution_count": 2,
   "metadata": {},
   "outputs": [
    {
     "name": "stdout",
     "output_type": "stream",
     "text": [
      "A.shape[[ 1 -1  1  0]\n",
      " [ 0  1  0  1]]\n",
      "b.shape [15 15]\n",
      "c.shape [-2  1  0  0]\n",
      "2 constraints\n",
      "4 dimensions\n"
     ]
    }
   ],
   "source": [
    "A = np.matrix([[1, -1, 1, 0],\n",
    "               [0, 1 , 0, 1]])\n",
    "b = np.array([15, 15])\n",
    "c = np.array([-2, 1, 0, 0])\n",
    "N = A.shape[0]\n",
    "M = A.shape[1]\n",
    "print(\"A.shape{}\".format(A))\n",
    "print(\"b.shape {}\".format(b))\n",
    "print(\"c.shape {}\".format(c))\n",
    "print(\"{} constraints\".format(N))\n",
    "print(\"{} dimensions\".format(M))\n",
    "\n"
   ]
  },
  {
   "cell_type": "code",
   "execution_count": 23,
   "metadata": {},
   "outputs": [],
   "source": [
    "def primal_interior_feasible(x):\n",
    "    return (x > 0).all()\n",
    "\n",
    "def make_feasible(z):\n",
    "    z[z < 0 ] = max(0.1, z.max())\n",
    "    return z\n",
    "\n",
    "def dual_interior_feasible(s):\n",
    "    return (s > 0).all()\n",
    "\n",
    "def get_IBFS(dim):\n",
    "    x0 = np.random.randn(dim)\n",
    "    it=0\n",
    "    while not primal_interior_feasible(x0):\n",
    "        if it % 100000 == 0:\n",
    "            print(it)\n",
    "        x0 = np.random.randn(dim)\n",
    "        #x0 = (np.diag(x0).dot(A.T).dot(np.linalg.inv(A.dot(np.diag(x0)**2).dot(A.T))))*np.diag(x0).dot(x0)\n",
    "        it+=1\n",
    "    print(\"Took {} iterations to find IBFS.\".format(it))\n",
    "    return x0\n",
    "\n",
    "def get_dual(X):\n",
    "    w = np.linalg.inv(A.dot(X**2).dot(A.T)).dot(A).dot(X**2).dot(c)\n",
    "    s = c - A.T.dot(w.T).T\n",
    "    return w, s\n",
    "\n",
    "def get_duality_gap(x,s):\n",
    "    return x.dot(s.T)\n",
    "\n",
    "def interior_point(A0,b0,c0,M0,etol=0.0001,alpha=0.1):\n",
    "    \n",
    "    # Get IBFS\n",
    "    x0 = get_IBFS(M0)\n",
    "    \n",
    "    # Diagonalize\n",
    "    X0 = np.diag(x0)\n",
    "    \n",
    "    # Get dual variables and dual slack\n",
    "    w0, s0 = get_dual(X0)\n",
    "    \n",
    "    # Make dual feasible\n",
    "    if not dual_interior_feasible(s0):\n",
    "        s0 = make_feasible(s0)\n",
    "    \n",
    "    # Get initial duality gap\n",
    "    gap = get_duality_gap(x0, s0).tolist()[0][0]\n",
    "    it = 0\n",
    "    gaps=[]\n",
    "    iters=[]\n",
    "    zs=[]\n",
    "    while gap > etol:\n",
    "\n",
    "        # Get primal scaling direction of improvement\n",
    "        dy = -X0.dot(s0.T)\n",
    "\n",
    "        # Get next best point\n",
    "        x0 = x0 + alpha*X0.dot(dy).T\n",
    "\n",
    "        # Make primal feasible\n",
    "        if not primal_interior_feasible(x0):\n",
    "            x0 = make_feasible(x0)\n",
    "\n",
    "        # Get dual slack\n",
    "        X0 = np.diag(np.asarray(x0)[0])\n",
    "        w0, s0 = get_dual(X0)\n",
    "\n",
    "        # Make dual feasible\n",
    "        if not dual_interior_feasible(s0):\n",
    "            s0 = make_feasible(s0)\n",
    "\n",
    "        # Get duality gap\n",
    "        gap = get_duality_gap(x0, s0).tolist()[0][0]\n",
    "        it += 1\n",
    "        z = x0.dot(c)\n",
    "        \n",
    "        # Record data\n",
    "        gaps.append(gap)\n",
    "        iters.append(it)\n",
    "        zs.append(z)\n",
    "        \n",
    "        if it % 1000 == 0:   \n",
    "            print(\"Iteration {}, Duality Gap {}\".format(it, gap))\n",
    "\n",
    "\n",
    "    print(\"Final Duality Gap {}\".format(gap))\n",
    "    print(\"Primal Variables {}\".format(x0))\n",
    "    print(\"Dual Slack Variables {}\".format(s0))\n",
    "    print(\"Dual Variables {}\".format(w0))\n",
    "    return x0,w0,s0,gaps,iters,zs\n",
    "\n",
    "\n"
   ]
  },
  {
   "cell_type": "code",
   "execution_count": null,
   "metadata": {},
   "outputs": [],
   "source": []
  },
  {
   "cell_type": "code",
   "execution_count": 24,
   "metadata": {},
   "outputs": [
    {
     "name": "stdout",
     "output_type": "stream",
     "text": [
      "0\n",
      "Took 1 iterations to find IBFS.\n",
      "Iteration 1000, Duality Gap 0.03425861829071579\n",
      "Iteration 2000, Duality Gap 0.017361653008219364\n",
      "Iteration 3000, Duality Gap 0.011378950651640156\n",
      "Iteration 4000, Duality Gap 0.008398904887942376\n",
      "Iteration 5000, Duality Gap 0.006633691671674564\n",
      "Iteration 6000, Duality Gap 0.005472145558514748\n",
      "Iteration 7000, Duality Gap 0.004652078674576753\n",
      "Iteration 8000, Duality Gap 0.0040432085940588945\n",
      "Iteration 9000, Duality Gap 0.003573756228176588\n",
      "Iteration 10000, Duality Gap 0.003201026022975759\n",
      "Iteration 11000, Duality Gap 0.002898074495299789\n",
      "Iteration 12000, Duality Gap 0.002647079511597501\n",
      "Iteration 13000, Duality Gap 0.0024357916967707293\n",
      "Iteration 14000, Duality Gap 0.002255519578785964\n",
      "Iteration 15000, Duality Gap 0.002099928287631605\n",
      "Iteration 16000, Duality Gap 0.0019642933072778006\n",
      "Iteration 17000, Duality Gap 0.0018450204498907897\n",
      "Iteration 18000, Duality Gap 0.0017393275318075855\n",
      "Iteration 19000, Duality Gap 0.0016450278167341376\n",
      "Iteration 20000, Duality Gap 0.001560379018916987\n",
      "Iteration 21000, Duality Gap 0.001483976127775143\n",
      "Iteration 22000, Duality Gap 0.0014146736714710315\n",
      "Iteration 23000, Duality Gap 0.0013515284688036563\n",
      "Iteration 24000, Duality Gap 0.0012937570060771622\n",
      "Iteration 25000, Duality Gap 0.0012407030824413542\n",
      "Iteration 26000, Duality Gap 0.0011918128795138543\n",
      "Iteration 27000, Duality Gap 0.0011466159452935454\n",
      "Iteration 28000, Duality Gap 0.001104709958979033\n",
      "Iteration 29000, Duality Gap 0.0010657488701885406\n",
      "Iteration 30000, Duality Gap 0.0010294335037452404\n",
      "Final Duality Gap 0.0009999866043259563\n",
      "Primal Variables [[0.00033337 0.33145618 0.00033675 0.00033662]]\n",
      "Dual Slack Variables [[9.93294116e-01 6.86660495e-09 9.93294116e-01 9.93294116e-01]]\n",
      "Dual Variables [[-0.99329412  0.00670588]]\n"
     ]
    }
   ],
   "source": [
    "x0,w0,s0,gaps,iters, zs=interior_point(A,b,c,M,etol=0.001)"
   ]
  },
  {
   "cell_type": "code",
   "execution_count": 6,
   "metadata": {},
   "outputs": [
    {
     "data": {
      "image/png": "[encoded data removed]",
      "text/plain": [
       "<Figure size 432x288 with 1 Axes>"
      ]
     },
     "metadata": {
      "needs_background": "light"
     },
     "output_type": "display_data"
    }
   ],
   "source": [
    "plt.scatter(iters,gaps)\n",
    "plt.title(\"Lecture 10 Problem | Duality Gap\")\n",
    "plt.xlabel(\"Iteration\")\n",
    "plt.ylabel(\"Gap\")\n",
    "plt.show()"
   ]
  },
  {
   "cell_type": "code",
   "execution_count": 7,
   "metadata": {},
   "outputs": [
    {
     "data": {
      "image/png": "[encoded data removed]",
      "text/plain": [
       "<Figure size 432x288 with 1 Axes>"
      ]
     },
     "metadata": {
      "needs_background": "light"
     },
     "output_type": "display_data"
    }
   ],
   "source": [
    "plt.scatter(iters,zs)\n",
    "plt.title(\"Lecture 10 Problem | Objective Function\")\n",
    "plt.xlabel(\"Iteration\")\n",
    "plt.ylabel(\"z\")\n",
    "plt.show()"
   ]
  },
  {
   "cell_type": "code",
   "execution_count": null,
   "metadata": {},
   "outputs": [],
   "source": []
  },
  {
   "cell_type": "markdown",
   "metadata": {},
   "source": [
    "# Problem 2\n",
    "\n",
    "Reproduce the blending problem"
   ]
  },
  {
   "cell_type": "code",
   "execution_count": 103,
   "metadata": {},
   "outputs": [],
   "source": [
    "import scipy.io"
   ]
  },
  {
   "cell_type": "code",
   "execution_count": null,
   "metadata": {},
   "outputs": [],
   "source": [
    "D = scipy.io.loadmat('BLEND.mat')\n",
    "\n",
    "\n",
    "print(\"Saving data\")\n",
    "A = D[\"A\"].todense()\n",
    "b = D[\"b\"].reshape(-1)\n",
    "c = D[\"c\"].reshape(-1)\n",
    "lb = D[\"lbounds\"]\n",
    "ub = D[\"ubounds\"]\n",
    "N = A.shape[0]\n",
    "M = A.shape[1]\n",
    "print(\"Confirming data shapes\")\n",
    "print(\"A {}\".format(A.shape))\n",
    "print(\"b {}\".format(b.shape))\n",
    "print(\"c {}\".format(c.shape))\n",
    "print(\"lb {}\".format(lb.shape))\n",
    "print(\"ub {}\".format(ub.shape))"
   ]
  },
  {
   "cell_type": "code",
   "execution_count": null,
   "metadata": {},
   "outputs": [],
   "source": [
    "x0,w0,s0,gaps,iters,zs=interior_point(A,b,c,M,etol=0.01)\n"
   ]
  },
  {
   "cell_type": "code",
   "execution_count": 179,
   "metadata": {},
   "outputs": [
    {
     "data": {
      "image/png": "[encoded data removed]",
      "text/plain": [
       "<Figure size 432x288 with 1 Axes>"
      ]
     },
     "metadata": {
      "needs_background": "light"
     },
     "output_type": "display_data"
    }
   ],
   "source": [
    "plt.scatter(iters,gaps)\n",
    "plt.title(\"Blending Problem | Duality Gap\")\n",
    "plt.xlabel(\"Iteration\")\n",
    "plt.ylabel(\"Gap\")\n",
    "plt.show()"
   ]
  },
  {
   "cell_type": "code",
   "execution_count": 178,
   "metadata": {},
   "outputs": [
    {
     "name": "stdout",
     "output_type": "stream",
     "text": [
      "Final Solution [[3.02434323]]\n"
     ]
    }
   ],
   "source": [
    "print(\"Final Solution {}\".format(x0.dot(c)))"
   ]
  },
  {
   "cell_type": "code",
   "execution_count": null,
   "metadata": {},
   "outputs": [],
   "source": []
  },
  {
   "cell_type": "code",
   "execution_count": null,
   "metadata": {},
   "outputs": [],
   "source": []
  },
  {
   "cell_type": "code",
   "execution_count": null,
   "metadata": {},
   "outputs": [],
   "source": []
  },
  {
   "cell_type": "code",
   "execution_count": null,
   "metadata": {},
   "outputs": [],
   "source": []
  },
  {
   "cell_type": "code",
   "execution_count": null,
   "metadata": {},
   "outputs": [],
   "source": []
  },
  {
   "cell_type": "code",
   "execution_count": null,
   "metadata": {},
   "outputs": [],
   "source": []
  },
  {
   "cell_type": "code",
   "execution_count": null,
   "metadata": {},
   "outputs": [],
   "source": []
  },
  {
   "cell_type": "code",
   "execution_count": null,
   "metadata": {},
   "outputs": [],
   "source": []
  },
  {
   "cell_type": "code",
   "execution_count": null,
   "metadata": {},
   "outputs": [],
   "source": []
  },
  {
   "cell_type": "code",
   "execution_count": null,
   "metadata": {},
   "outputs": [],
   "source": []
  },
  {
   "cell_type": "code",
   "execution_count": null,
   "metadata": {},
   "outputs": [],
   "source": []
  },
  {
   "cell_type": "code",
   "execution_count": null,
   "metadata": {},
   "outputs": [],
   "source": []
  },
  {
   "cell_type": "code",
   "execution_count": null,
   "metadata": {},
   "outputs": [],
   "source": []
  },
  {
   "cell_type": "code",
   "execution_count": null,
   "metadata": {},
   "outputs": [],
   "source": []
  },
  {
   "cell_type": "code",
   "execution_count": null,
   "metadata": {},
   "outputs": [],
   "source": []
  }
 ],
 "metadata": {
  "kernelspec": {
   "display_name": "Python 3",
   "language": "python",
   "name": "python3"
  },
  "language_info": {
   "codemirror_mode": {
    "name": "ipython",
    "version": 3
   },
   "file_extension": ".py",
   "mimetype": "text/x-python",
   "name": "python",
   "nbconvert_exporter": "python",
   "pygments_lexer": "ipython3",
   "version": "3.7.3"
  }
 },
 "nbformat": 4,
 "nbformat_minor": 2
}
